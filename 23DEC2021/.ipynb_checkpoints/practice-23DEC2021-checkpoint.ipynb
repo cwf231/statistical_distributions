{
 "cells": [
  {
   "cell_type": "markdown",
   "id": "af35eae5",
   "metadata": {},
   "source": [
    "# Distributions\n",
    "\n",
    "## Objectives\n",
    "- Relate the concepts of distributions and normality back to data we are familiar with.\n",
    "- Discuss Z-scores and the ways we can calculate them.\n",
    "- Discuss normality and how to asses it."
   ]
  },
  {
   "cell_type": "markdown",
   "id": "ef4c58f4",
   "metadata": {},
   "source": [
    "#### Loading Data"
   ]
  },
  {
   "cell_type": "code",
   "execution_count": null,
   "id": "92a0bbb2",
   "metadata": {
    "ExecuteTime": {
     "end_time": "2021-12-02T14:29:25.687883Z",
     "start_time": "2021-12-02T14:29:25.685316Z"
    }
   },
   "outputs": [],
   "source": [
    "# Import pandas.\n",
    "import pandas as pd"
   ]
  },
  {
   "cell_type": "code",
   "execution_count": null,
   "id": "1d6fd33c",
   "metadata": {
    "ExecuteTime": {
     "end_time": "2021-12-02T14:29:25.693290Z",
     "start_time": "2021-12-02T14:29:25.691064Z"
    }
   },
   "outputs": [],
   "source": [
    "# Load data and check it out!\n"
   ]
  },
  {
   "cell_type": "code",
   "execution_count": null,
   "id": "98d358b7",
   "metadata": {
    "ExecuteTime": {
     "end_time": "2021-08-26T23:36:39.415534Z",
     "start_time": "2021-08-26T23:36:39.402913Z"
    }
   },
   "outputs": [],
   "source": []
  },
  {
   "cell_type": "code",
   "execution_count": null,
   "id": "26bd570c",
   "metadata": {
    "ExecuteTime": {
     "end_time": "2021-08-26T23:36:39.421442Z",
     "start_time": "2021-08-26T23:36:39.417430Z"
    }
   },
   "outputs": [],
   "source": []
  },
  {
   "cell_type": "code",
   "execution_count": null,
   "id": "07107ed5",
   "metadata": {
    "ExecuteTime": {
     "end_time": "2021-08-26T23:36:39.432693Z",
     "start_time": "2021-08-26T23:36:39.427980Z"
    }
   },
   "outputs": [],
   "source": []
  },
  {
   "cell_type": "code",
   "execution_count": null,
   "id": "248d25c3",
   "metadata": {
    "ExecuteTime": {
     "end_time": "2021-08-26T23:36:39.445175Z",
     "start_time": "2021-08-26T23:36:39.439502Z"
    }
   },
   "outputs": [],
   "source": []
  },
  {
   "cell_type": "code",
   "execution_count": null,
   "id": "2b7846a8",
   "metadata": {
    "ExecuteTime": {
     "end_time": "2021-08-26T23:36:39.453600Z",
     "start_time": "2021-08-26T23:36:39.448593Z"
    }
   },
   "outputs": [],
   "source": []
  },
  {
   "cell_type": "markdown",
   "id": "0a18310e",
   "metadata": {},
   "source": [
    "# Visualizing Distributions"
   ]
  },
  {
   "cell_type": "code",
   "execution_count": null,
   "id": "44a094b6",
   "metadata": {
    "ExecuteTime": {
     "end_time": "2021-12-02T14:29:27.008951Z",
     "start_time": "2021-12-02T14:29:25.696532Z"
    }
   },
   "outputs": [],
   "source": [
    "# Imports\n",
    "### \n",
    "# NOTE: Best practice for your notebooks is to perform all imports \n",
    "# in the same cell at the top of the notebook.\n",
    "###\n",
    "import seaborn as sns\n",
    "import matplotlib.pyplot as plt\n",
    "plt.style.use('seaborn-talk')"
   ]
  },
  {
   "cell_type": "markdown",
   "id": "9dc7f536",
   "metadata": {},
   "source": [
    "## Normal Distribution\n",
    "> *AKA: Gaussian / Bell Curve*\n",
    "\n",
    "- Normal Distributions are symmetric around the mean.\n",
    "- The mean, median, mode of a normal distribution are equal.\n",
    "- The area under the bell curve is $1.0$.\n",
    "- Normal distributions are dense in the center and less dense in the tails.\n",
    "- Normal distributions are defined by two parameters: $\\mu$ (mean) and $\\sigma$ (standard deviation).\n",
    "- Approximately $68\\%$ of the area of a normal distribution is within one standard deviation of the mean.\n",
    "    - $\\pm1\\sigma$\n",
    "- Approximately $95\\%$ of the area of a normal distribution is within two standard deviations of the mean.\n",
    "    - $\\pm2\\sigma$\n",
    "    \n",
    "    \n",
    "<img src='../data/standard-normal-distribution-with-probabilities.png'>"
   ]
  },
  {
   "cell_type": "markdown",
   "id": "a4c59e8a",
   "metadata": {},
   "source": [
    "### Probability Mass Function (PMF)\n",
    "\n",
    "- The **Probability Mass Function** associates *probabilities with **discrete** variables.*\n",
    "    - *Discrete:* a number of known possible outcomes."
   ]
  },
  {
   "cell_type": "code",
   "execution_count": null,
   "id": "9479ca38",
   "metadata": {
    "ExecuteTime": {
     "end_time": "2021-12-02T14:29:27.164570Z",
     "start_time": "2021-12-02T14:29:27.011685Z"
    }
   },
   "outputs": [],
   "source": [
    "# PMF Demo\n",
    "a = (\n",
    "    pd.Series(\n",
    "        ['a','a','a','a',\n",
    "         'b','b','b','b',\n",
    "         'c','c',\n",
    "         'd',\n",
    "         'e','e']\n",
    "    )\n",
    "    .value_counts(normalize=True)\n",
    "    .sort_index()\n",
    ")\n",
    "\n",
    "fig, ax = plt.subplots()\n",
    "ax.bar(a.index, a)\n",
    "ax.set(title='PMF', xlabel='Discrete Variable', ylabel='Probability')\n",
    "fig.tight_layout()"
   ]
  },
  {
   "cell_type": "markdown",
   "id": "b64065a3",
   "metadata": {},
   "source": [
    "### Probability Density Function (PDF)\n",
    "- The **Probability Density Function** associates probabilities with **continuous** variables.\n",
    "    - *Continuous:* A possibly-infinite number of outcomes.\n",
    "\n",
    "<img src='../data/pdf_demo.png'>"
   ]
  },
  {
   "cell_type": "markdown",
   "id": "9bcf054c",
   "metadata": {},
   "source": [
    "### Cumulative Distribution Function (CDF)\n",
    "- The **Cumulative Distribution Function** shows $P(X \\leq x)$ for an x within the sample space.\n",
    "\n",
    "<img src='../data/cdf.png'>"
   ]
  },
  {
   "cell_type": "markdown",
   "id": "2c16a93f",
   "metadata": {},
   "source": [
    "## Visualizing our Dataset"
   ]
  },
  {
   "cell_type": "code",
   "execution_count": null,
   "id": "9c138289",
   "metadata": {
    "ExecuteTime": {
     "end_time": "2021-12-02T14:29:27.167761Z",
     "start_time": "2021-12-02T14:29:25.692Z"
    }
   },
   "outputs": [],
   "source": [
    "# Domestic Gross - Histogram\n"
   ]
  },
  {
   "cell_type": "code",
   "execution_count": null,
   "id": "ed724151",
   "metadata": {
    "ExecuteTime": {
     "end_time": "2021-12-02T14:29:27.169060Z",
     "start_time": "2021-12-02T14:29:25.694Z"
    }
   },
   "outputs": [],
   "source": [
    "# Domestic Gross - KDE\n",
    "\n",
    "\n",
    "# Bonus: Add vertical lines depicting the mean and median. (`axvline`)\n"
   ]
  },
  {
   "cell_type": "code",
   "execution_count": null,
   "id": "08c42060",
   "metadata": {
    "ExecuteTime": {
     "end_time": "2021-12-02T14:29:27.170245Z",
     "start_time": "2021-12-02T14:29:25.695Z"
    }
   },
   "outputs": [],
   "source": [
    "# Domestic Gross - Boxplot\n"
   ]
  },
  {
   "cell_type": "markdown",
   "id": "5ff2e029",
   "metadata": {},
   "source": [
    "# Skew / Kurtosis"
   ]
  },
  {
   "cell_type": "code",
   "execution_count": null,
   "id": "053000fa",
   "metadata": {
    "ExecuteTime": {
     "end_time": "2021-12-02T14:29:27.171339Z",
     "start_time": "2021-12-02T14:29:25.697Z"
    }
   },
   "outputs": [],
   "source": [
    "from scipy import stats"
   ]
  },
  {
   "cell_type": "markdown",
   "id": "54e1dde7",
   "metadata": {},
   "source": [
    "***Skew***\n",
    "<img src='../data/skew.png' width=75%>"
   ]
  },
  {
   "cell_type": "code",
   "execution_count": null,
   "id": "3282b683",
   "metadata": {
    "ExecuteTime": {
     "end_time": "2021-12-02T14:29:27.172640Z",
     "start_time": "2021-12-02T14:29:25.699Z"
    }
   },
   "outputs": [],
   "source": [
    "# Domestic Gross - Skew & Skew-Test\n"
   ]
  },
  {
   "cell_type": "code",
   "execution_count": null,
   "id": "6e52920f",
   "metadata": {},
   "outputs": [],
   "source": []
  },
  {
   "cell_type": "markdown",
   "id": "93e681cf",
   "metadata": {},
   "source": [
    "***Kurtosis***\n",
    "<img src='../data/kurtosis.png'>\n",
    "> *https://analystprep.com/cfa-level-1-exam/quantitative-methods/kurtosis-and-skewness-types-of-distributions/*"
   ]
  },
  {
   "cell_type": "code",
   "execution_count": null,
   "id": "9f3a9ba7",
   "metadata": {
    "ExecuteTime": {
     "end_time": "2021-12-02T14:29:27.174088Z",
     "start_time": "2021-12-02T14:29:25.700Z"
    }
   },
   "outputs": [],
   "source": [
    "# Domestic Gross - Kurtosis & Kurtosis-Test\n"
   ]
  },
  {
   "cell_type": "code",
   "execution_count": null,
   "id": "4f860e57",
   "metadata": {},
   "outputs": [],
   "source": []
  },
  {
   "cell_type": "markdown",
   "id": "6c4b6067",
   "metadata": {},
   "source": [
    "# Z-Score\n",
    "- A *Z-Score* tells us how many standard deviations away from the mean a point would be in a *Standard Normal Distribution*.\n",
    "\n",
    "$ \\LARGE z = \\frac{(x - \\mu)}{\\sigma} $\n",
    "> - *$z$: z-score*\n",
    "> - *$\\mu$ (mu): population mean*\n",
    "> - *$\\sigma$ (sigma): population standard deviation*\n",
    "\n",
    "---\n",
    "\n",
    "- *Z-Scores* are associated with cumulative probabilities (retrieved from a *z-table*).\n",
    "<img src='../data/z-table.png' width=500>\n",
    "\n",
    "> <a src='https://www.chegg.com/homework-help/questions-and-answers/usage-z-table-1-assuming-normal-distribution-using-z-tables-find-z-score-corresponding--75-q19507214'>*Chegg.com - Usage of Z-Table*</a>"
   ]
  },
  {
   "cell_type": "markdown",
   "id": "fb8c1a5f",
   "metadata": {},
   "source": [
    "### By Hand - Don't do this!"
   ]
  },
  {
   "cell_type": "code",
   "execution_count": null,
   "id": "50d90950",
   "metadata": {
    "ExecuteTime": {
     "end_time": "2021-12-02T14:29:27.175075Z",
     "start_time": "2021-12-02T14:29:25.702Z"
    }
   },
   "outputs": [],
   "source": [
    "# Calculating z-score by hand for RUNTIME_MINUTES.\n"
   ]
  },
  {
   "cell_type": "code",
   "execution_count": null,
   "id": "633ab1a7",
   "metadata": {
    "ExecuteTime": {
     "end_time": "2021-08-26T23:36:41.200674Z",
     "start_time": "2021-08-26T23:36:41.191017Z"
    }
   },
   "outputs": [],
   "source": []
  },
  {
   "cell_type": "code",
   "execution_count": null,
   "id": "afe1d6a5",
   "metadata": {
    "ExecuteTime": {
     "end_time": "2021-08-26T23:36:41.205172Z",
     "start_time": "2021-08-26T23:36:41.202698Z"
    }
   },
   "outputs": [],
   "source": []
  },
  {
   "cell_type": "markdown",
   "id": "fbd43a90",
   "metadata": {},
   "source": [
    "### Using `sklearn` and `StandardScaler`"
   ]
  },
  {
   "cell_type": "code",
   "execution_count": null,
   "id": "fa2eef46",
   "metadata": {
    "ExecuteTime": {
     "end_time": "2021-12-02T14:29:27.176326Z",
     "start_time": "2021-12-02T14:29:25.704Z"
    }
   },
   "outputs": [],
   "source": [
    "from sklearn.preprocessing import StandardScaler"
   ]
  },
  {
   "cell_type": "code",
   "execution_count": null,
   "id": "b397f671",
   "metadata": {
    "ExecuteTime": {
     "end_time": "2021-12-02T14:29:27.177764Z",
     "start_time": "2021-12-02T14:29:25.706Z"
    }
   },
   "outputs": [],
   "source": [
    "# Instantiate the Object.\n"
   ]
  },
  {
   "cell_type": "code",
   "execution_count": null,
   "id": "05afc1b8",
   "metadata": {
    "ExecuteTime": {
     "end_time": "2021-12-02T14:29:27.179032Z",
     "start_time": "2021-12-02T14:29:25.707Z"
    }
   },
   "outputs": [],
   "source": [
    "# Fit the object.\n"
   ]
  },
  {
   "cell_type": "code",
   "execution_count": null,
   "id": "00927e55",
   "metadata": {
    "ExecuteTime": {
     "end_time": "2021-12-02T14:29:27.180256Z",
     "start_time": "2021-12-02T14:29:25.708Z"
    }
   },
   "outputs": [],
   "source": [
    "# Check mean attribute.\n"
   ]
  },
  {
   "cell_type": "code",
   "execution_count": null,
   "id": "89774dd3",
   "metadata": {
    "ExecuteTime": {
     "end_time": "2021-12-02T14:29:27.181470Z",
     "start_time": "2021-12-02T14:29:25.709Z"
    }
   },
   "outputs": [],
   "source": [
    "# Check var attribute.\n"
   ]
  },
  {
   "cell_type": "code",
   "execution_count": null,
   "id": "104a3727",
   "metadata": {
    "ExecuteTime": {
     "end_time": "2021-12-02T14:29:27.182712Z",
     "start_time": "2021-12-02T14:29:25.710Z"
    }
   },
   "outputs": [],
   "source": [
    "# Transform column.\n"
   ]
  },
  {
   "cell_type": "code",
   "execution_count": null,
   "id": "8c778159",
   "metadata": {
    "ExecuteTime": {
     "end_time": "2021-12-02T14:29:27.183898Z",
     "start_time": "2021-12-02T14:29:25.711Z"
    }
   },
   "outputs": [],
   "source": [
    "# Revert column back to original values.\n"
   ]
  },
  {
   "cell_type": "code",
   "execution_count": null,
   "id": "846c5498",
   "metadata": {
    "ExecuteTime": {
     "end_time": "2021-12-02T14:29:27.185041Z",
     "start_time": "2021-12-02T14:29:25.713Z"
    }
   },
   "outputs": [],
   "source": [
    "# Shorthand, using `fit_transform`.\n"
   ]
  },
  {
   "cell_type": "code",
   "execution_count": null,
   "id": "4e2cd5e1",
   "metadata": {
    "ExecuteTime": {
     "end_time": "2021-12-02T14:29:27.186286Z",
     "start_time": "2021-12-02T14:29:25.714Z"
    }
   },
   "outputs": [],
   "source": [
    "# Plot PDF of original values.\n"
   ]
  },
  {
   "cell_type": "code",
   "execution_count": null,
   "id": "edc5f8c9",
   "metadata": {
    "ExecuteTime": {
     "end_time": "2021-12-02T14:29:27.187292Z",
     "start_time": "2021-12-02T14:29:25.715Z"
    }
   },
   "outputs": [],
   "source": [
    "# Plot PDF of scaled values.\n"
   ]
  },
  {
   "cell_type": "code",
   "execution_count": null,
   "id": "de1c1048",
   "metadata": {
    "ExecuteTime": {
     "end_time": "2021-12-02T14:29:27.188556Z",
     "start_time": "2021-12-02T14:29:25.716Z"
    }
   },
   "outputs": [],
   "source": [
    "# Create a plot with side-by-side axes showing each the original & scaled distributions.\n",
    "\n",
    "\n",
    "# Bonus: Add vertical line showing the mean of each sample.\n"
   ]
  },
  {
   "cell_type": "code",
   "execution_count": null,
   "id": "b8fc72fc",
   "metadata": {},
   "outputs": [],
   "source": []
  }
 ],
 "metadata": {
  "kernelspec": {
   "display_name": "Python 3",
   "language": "python",
   "name": "python3"
  },
  "language_info": {
   "codemirror_mode": {
    "name": "ipython",
    "version": 3
   },
   "file_extension": ".py",
   "mimetype": "text/x-python",
   "name": "python",
   "nbconvert_exporter": "python",
   "pygments_lexer": "ipython3",
   "version": "3.6.9"
  },
  "toc": {
   "base_numbering": 1,
   "nav_menu": {},
   "number_sections": false,
   "sideBar": true,
   "skip_h1_title": false,
   "title_cell": "Table of Contents",
   "title_sidebar": "Contents",
   "toc_cell": false,
   "toc_position": {
    "height": "calc(100% - 180px)",
    "left": "10px",
    "top": "150px",
    "width": "349px"
   },
   "toc_section_display": true,
   "toc_window_display": true
  }
 },
 "nbformat": 4,
 "nbformat_minor": 5
}
