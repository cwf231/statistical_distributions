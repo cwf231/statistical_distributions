{
 "cells": [
  {
   "cell_type": "markdown",
   "id": "b8156f8e",
   "metadata": {},
   "source": [
    "# Distributions\n",
    "\n",
    "## Objectives\n",
    "- Relate the concepts of distributions and normality back to data we are familiar with.\n",
    "- Discuss Z-scores and the ways we can calculate them.\n",
    "- Discuss normality and how to asses it."
   ]
  },
  {
   "cell_type": "markdown",
   "id": "233d3c23",
   "metadata": {},
   "source": [
    "#### Loading Data"
   ]
  },
  {
   "cell_type": "code",
   "execution_count": 1,
   "id": "ae4c36fc",
   "metadata": {
    "ExecuteTime": {
     "end_time": "2021-12-02T19:03:34.116567Z",
     "start_time": "2021-12-02T19:03:33.608021Z"
    }
   },
   "outputs": [],
   "source": [
    "# Import pandas.\n",
    "import pandas as pd"
   ]
  },
  {
   "cell_type": "code",
   "execution_count": 2,
   "id": "918a0ecc",
   "metadata": {
    "ExecuteTime": {
     "end_time": "2021-12-02T19:03:34.251828Z",
     "start_time": "2021-12-02T19:03:34.119340Z"
    }
   },
   "outputs": [
    {
     "name": "stdout",
     "output_type": "stream",
     "text": [
      "cdf.png\r\n",
      "kurtosis.png\r\n",
      "movies.csv\r\n",
      "pdf_demo.png\r\n",
      "skew.png\r\n",
      "standard-normal-distribution-with-probabilities.png\r\n",
      "z-table.png\r\n"
     ]
    }
   ],
   "source": [
    "# First, where is the data?\n",
    "!ls ../data"
   ]
  },
  {
   "cell_type": "code",
   "execution_count": 3,
   "id": "41d4d577",
   "metadata": {
    "ExecuteTime": {
     "end_time": "2021-12-02T19:03:34.306535Z",
     "start_time": "2021-12-02T19:03:34.254206Z"
    }
   },
   "outputs": [
    {
     "data": {
      "text/html": [
       "<div>\n",
       "<style scoped>\n",
       "    .dataframe tbody tr th:only-of-type {\n",
       "        vertical-align: middle;\n",
       "    }\n",
       "\n",
       "    .dataframe tbody tr th {\n",
       "        vertical-align: top;\n",
       "    }\n",
       "\n",
       "    .dataframe thead th {\n",
       "        text-align: right;\n",
       "    }\n",
       "</style>\n",
       "<table border=\"1\" class=\"dataframe\">\n",
       "  <thead>\n",
       "    <tr style=\"text-align: right;\">\n",
       "      <th></th>\n",
       "      <th>id</th>\n",
       "      <th>release_date</th>\n",
       "      <th>movie</th>\n",
       "      <th>production_budget</th>\n",
       "      <th>domestic_gross</th>\n",
       "      <th>worldwide_gross</th>\n",
       "      <th>tconst</th>\n",
       "      <th>primary_title</th>\n",
       "      <th>original_title</th>\n",
       "      <th>start_year</th>\n",
       "      <th>runtime_minutes</th>\n",
       "      <th>genres</th>\n",
       "      <th>revenue-domestic</th>\n",
       "      <th>revenue-worldwide</th>\n",
       "      <th>lost_money</th>\n",
       "      <th>roi-domestic</th>\n",
       "      <th>roi-worldwide</th>\n",
       "      <th>release_month</th>\n",
       "    </tr>\n",
       "  </thead>\n",
       "  <tbody>\n",
       "    <tr>\n",
       "      <th>0</th>\n",
       "      <td>2</td>\n",
       "      <td>2011-05-20</td>\n",
       "      <td>Pirates of the Caribbean: On Stranger Tides</td>\n",
       "      <td>410600000.0</td>\n",
       "      <td>241063875.0</td>\n",
       "      <td>1.045664e+09</td>\n",
       "      <td>tt1298650</td>\n",
       "      <td>Pirates of the Caribbean: On Stranger Tides</td>\n",
       "      <td>Pirates of the Caribbean: On Stranger Tides</td>\n",
       "      <td>2011</td>\n",
       "      <td>136.0</td>\n",
       "      <td>Action,Adventure,Fantasy</td>\n",
       "      <td>-169536125.0</td>\n",
       "      <td>6.350639e+08</td>\n",
       "      <td>True</td>\n",
       "      <td>-41.289850</td>\n",
       "      <td>154.667286</td>\n",
       "      <td>5</td>\n",
       "    </tr>\n",
       "    <tr>\n",
       "      <th>1</th>\n",
       "      <td>3</td>\n",
       "      <td>2019-06-07</td>\n",
       "      <td>Dark Phoenix</td>\n",
       "      <td>350000000.0</td>\n",
       "      <td>42762350.0</td>\n",
       "      <td>1.497624e+08</td>\n",
       "      <td>tt6565702</td>\n",
       "      <td>Dark Phoenix</td>\n",
       "      <td>Dark Phoenix</td>\n",
       "      <td>2019</td>\n",
       "      <td>113.0</td>\n",
       "      <td>Action,Adventure,Sci-Fi</td>\n",
       "      <td>-307237650.0</td>\n",
       "      <td>-2.002376e+08</td>\n",
       "      <td>True</td>\n",
       "      <td>-87.782186</td>\n",
       "      <td>-57.210757</td>\n",
       "      <td>6</td>\n",
       "    </tr>\n",
       "    <tr>\n",
       "      <th>2</th>\n",
       "      <td>4</td>\n",
       "      <td>2015-05-01</td>\n",
       "      <td>Avengers: Age of Ultron</td>\n",
       "      <td>330600000.0</td>\n",
       "      <td>459005868.0</td>\n",
       "      <td>1.403014e+09</td>\n",
       "      <td>tt2395427</td>\n",
       "      <td>Avengers: Age of Ultron</td>\n",
       "      <td>Avengers: Age of Ultron</td>\n",
       "      <td>2015</td>\n",
       "      <td>141.0</td>\n",
       "      <td>Action,Adventure,Sci-Fi</td>\n",
       "      <td>128405868.0</td>\n",
       "      <td>1.072414e+09</td>\n",
       "      <td>False</td>\n",
       "      <td>38.840250</td>\n",
       "      <td>324.384139</td>\n",
       "      <td>5</td>\n",
       "    </tr>\n",
       "  </tbody>\n",
       "</table>\n",
       "</div>"
      ],
      "text/plain": [
       "   id release_date                                        movie  \\\n",
       "0   2   2011-05-20  Pirates of the Caribbean: On Stranger Tides   \n",
       "1   3   2019-06-07                                 Dark Phoenix   \n",
       "2   4   2015-05-01                      Avengers: Age of Ultron   \n",
       "\n",
       "   production_budget  domestic_gross  worldwide_gross     tconst  \\\n",
       "0        410600000.0     241063875.0     1.045664e+09  tt1298650   \n",
       "1        350000000.0      42762350.0     1.497624e+08  tt6565702   \n",
       "2        330600000.0     459005868.0     1.403014e+09  tt2395427   \n",
       "\n",
       "                                 primary_title  \\\n",
       "0  Pirates of the Caribbean: On Stranger Tides   \n",
       "1                                 Dark Phoenix   \n",
       "2                      Avengers: Age of Ultron   \n",
       "\n",
       "                                original_title  start_year  runtime_minutes  \\\n",
       "0  Pirates of the Caribbean: On Stranger Tides        2011            136.0   \n",
       "1                                 Dark Phoenix        2019            113.0   \n",
       "2                      Avengers: Age of Ultron        2015            141.0   \n",
       "\n",
       "                     genres  revenue-domestic  revenue-worldwide  lost_money  \\\n",
       "0  Action,Adventure,Fantasy      -169536125.0       6.350639e+08        True   \n",
       "1   Action,Adventure,Sci-Fi      -307237650.0      -2.002376e+08        True   \n",
       "2   Action,Adventure,Sci-Fi       128405868.0       1.072414e+09       False   \n",
       "\n",
       "   roi-domestic  roi-worldwide  release_month  \n",
       "0    -41.289850     154.667286              5  \n",
       "1    -87.782186     -57.210757              6  \n",
       "2     38.840250     324.384139              5  "
      ]
     },
     "execution_count": 3,
     "metadata": {},
     "output_type": "execute_result"
    }
   ],
   "source": [
    "# Load data and check it out!\n",
    "df = pd.read_csv('../data/movies.csv', index_col=0)\n",
    "df.head(3)"
   ]
  },
  {
   "cell_type": "code",
   "execution_count": 4,
   "id": "9c8a1f7f",
   "metadata": {
    "ExecuteTime": {
     "end_time": "2021-12-02T19:03:34.320525Z",
     "start_time": "2021-12-02T19:03:34.308444Z"
    }
   },
   "outputs": [
    {
     "name": "stdout",
     "output_type": "stream",
     "text": [
      "<class 'pandas.core.frame.DataFrame'>\n",
      "Int64Index: 3467 entries, 0 to 3466\n",
      "Data columns (total 18 columns):\n",
      " #   Column             Non-Null Count  Dtype  \n",
      "---  ------             --------------  -----  \n",
      " 0   id                 3467 non-null   int64  \n",
      " 1   release_date       3467 non-null   object \n",
      " 2   movie              3467 non-null   object \n",
      " 3   production_budget  3467 non-null   float64\n",
      " 4   domestic_gross     3467 non-null   float64\n",
      " 5   worldwide_gross    3467 non-null   float64\n",
      " 6   tconst             3467 non-null   object \n",
      " 7   primary_title      3467 non-null   object \n",
      " 8   original_title     3467 non-null   object \n",
      " 9   start_year         3467 non-null   int64  \n",
      " 10  runtime_minutes    3056 non-null   float64\n",
      " 11  genres             3467 non-null   object \n",
      " 12  revenue-domestic   3467 non-null   float64\n",
      " 13  revenue-worldwide  3467 non-null   float64\n",
      " 14  lost_money         3467 non-null   bool   \n",
      " 15  roi-domestic       3467 non-null   float64\n",
      " 16  roi-worldwide      3467 non-null   float64\n",
      " 17  release_month      3467 non-null   int64  \n",
      "dtypes: bool(1), float64(8), int64(3), object(6)\n",
      "memory usage: 490.9+ KB\n"
     ]
    }
   ],
   "source": [
    "df.info()"
   ]
  },
  {
   "cell_type": "code",
   "execution_count": 5,
   "id": "e150d7d3",
   "metadata": {
    "ExecuteTime": {
     "end_time": "2021-12-02T19:03:34.329637Z",
     "start_time": "2021-12-02T19:03:34.325767Z"
    }
   },
   "outputs": [
    {
     "data": {
      "text/plain": [
       "(3467, 18)"
      ]
     },
     "execution_count": 5,
     "metadata": {},
     "output_type": "execute_result"
    }
   ],
   "source": [
    "df.shape"
   ]
  },
  {
   "cell_type": "code",
   "execution_count": 6,
   "id": "c4e878c7",
   "metadata": {
    "ExecuteTime": {
     "end_time": "2021-12-02T19:03:34.344058Z",
     "start_time": "2021-12-02T19:03:34.335100Z"
    }
   },
   "outputs": [
    {
     "data": {
      "text/plain": [
       "id                     0\n",
       "release_date           0\n",
       "movie                  0\n",
       "production_budget      0\n",
       "domestic_gross         0\n",
       "worldwide_gross        0\n",
       "tconst                 0\n",
       "primary_title          0\n",
       "original_title         0\n",
       "start_year             0\n",
       "runtime_minutes      411\n",
       "genres                 0\n",
       "revenue-domestic       0\n",
       "revenue-worldwide      0\n",
       "lost_money             0\n",
       "roi-domestic           0\n",
       "roi-worldwide          0\n",
       "release_month          0\n",
       "dtype: int64"
      ]
     },
     "execution_count": 6,
     "metadata": {},
     "output_type": "execute_result"
    }
   ],
   "source": [
    "df.isna().sum()"
   ]
  },
  {
   "cell_type": "code",
   "execution_count": 7,
   "id": "a0bcbe4b",
   "metadata": {
    "ExecuteTime": {
     "end_time": "2021-12-02T19:03:34.396134Z",
     "start_time": "2021-12-02T19:03:34.347287Z"
    }
   },
   "outputs": [
    {
     "data": {
      "text/html": [
       "<div>\n",
       "<style scoped>\n",
       "    .dataframe tbody tr th:only-of-type {\n",
       "        vertical-align: middle;\n",
       "    }\n",
       "\n",
       "    .dataframe tbody tr th {\n",
       "        vertical-align: top;\n",
       "    }\n",
       "\n",
       "    .dataframe thead th {\n",
       "        text-align: right;\n",
       "    }\n",
       "</style>\n",
       "<table border=\"1\" class=\"dataframe\">\n",
       "  <thead>\n",
       "    <tr style=\"text-align: right;\">\n",
       "      <th></th>\n",
       "      <th>id</th>\n",
       "      <th>production_budget</th>\n",
       "      <th>domestic_gross</th>\n",
       "      <th>worldwide_gross</th>\n",
       "      <th>start_year</th>\n",
       "      <th>runtime_minutes</th>\n",
       "      <th>revenue-domestic</th>\n",
       "      <th>revenue-worldwide</th>\n",
       "      <th>roi-domestic</th>\n",
       "      <th>roi-worldwide</th>\n",
       "      <th>release_month</th>\n",
       "    </tr>\n",
       "  </thead>\n",
       "  <tbody>\n",
       "    <tr>\n",
       "      <th>count</th>\n",
       "      <td>3467.000000</td>\n",
       "      <td>3.467000e+03</td>\n",
       "      <td>3.467000e+03</td>\n",
       "      <td>3.467000e+03</td>\n",
       "      <td>3467.000000</td>\n",
       "      <td>3056.000000</td>\n",
       "      <td>3.467000e+03</td>\n",
       "      <td>3.467000e+03</td>\n",
       "      <td>3467.000000</td>\n",
       "      <td>3467.000000</td>\n",
       "      <td>3467.000000</td>\n",
       "    </tr>\n",
       "    <tr>\n",
       "      <th>mean</th>\n",
       "      <td>50.408422</td>\n",
       "      <td>3.272311e+07</td>\n",
       "      <td>4.002588e+07</td>\n",
       "      <td>9.389707e+07</td>\n",
       "      <td>2014.273435</td>\n",
       "      <td>97.269634</td>\n",
       "      <td>7.302768e+06</td>\n",
       "      <td>6.117396e+07</td>\n",
       "      <td>110.018500</td>\n",
       "      <td>331.455748</td>\n",
       "      <td>6.935391</td>\n",
       "    </tr>\n",
       "    <tr>\n",
       "      <th>std</th>\n",
       "      <td>28.477523</td>\n",
       "      <td>4.493635e+07</td>\n",
       "      <td>6.962862e+07</td>\n",
       "      <td>1.863292e+08</td>\n",
       "      <td>2.687449</td>\n",
       "      <td>27.459274</td>\n",
       "      <td>4.980306e+07</td>\n",
       "      <td>1.549271e+08</td>\n",
       "      <td>805.278371</td>\n",
       "      <td>1550.164497</td>\n",
       "      <td>3.522638</td>\n",
       "    </tr>\n",
       "    <tr>\n",
       "      <th>min</th>\n",
       "      <td>1.000000</td>\n",
       "      <td>1.400000e+03</td>\n",
       "      <td>0.000000e+00</td>\n",
       "      <td>0.000000e+00</td>\n",
       "      <td>2010.000000</td>\n",
       "      <td>1.000000</td>\n",
       "      <td>-3.072376e+08</td>\n",
       "      <td>-2.002376e+08</td>\n",
       "      <td>-100.000000</td>\n",
       "      <td>-100.000000</td>\n",
       "      <td>1.000000</td>\n",
       "    </tr>\n",
       "    <tr>\n",
       "      <th>25%</th>\n",
       "      <td>26.000000</td>\n",
       "      <td>4.500000e+06</td>\n",
       "      <td>3.733750e+05</td>\n",
       "      <td>2.000046e+06</td>\n",
       "      <td>2012.000000</td>\n",
       "      <td>87.000000</td>\n",
       "      <td>-1.105238e+07</td>\n",
       "      <td>-2.964562e+06</td>\n",
       "      <td>-92.326264</td>\n",
       "      <td>-70.612788</td>\n",
       "      <td>4.000000</td>\n",
       "    </tr>\n",
       "    <tr>\n",
       "      <th>50%</th>\n",
       "      <td>51.000000</td>\n",
       "      <td>1.600000e+07</td>\n",
       "      <td>1.421887e+07</td>\n",
       "      <td>2.536121e+07</td>\n",
       "      <td>2014.000000</td>\n",
       "      <td>98.000000</td>\n",
       "      <td>-1.049208e+06</td>\n",
       "      <td>6.433427e+06</td>\n",
       "      <td>-31.388980</td>\n",
       "      <td>48.053683</td>\n",
       "      <td>7.000000</td>\n",
       "    </tr>\n",
       "    <tr>\n",
       "      <th>75%</th>\n",
       "      <td>74.000000</td>\n",
       "      <td>4.000000e+07</td>\n",
       "      <td>4.826558e+07</td>\n",
       "      <td>9.486865e+07</td>\n",
       "      <td>2016.000000</td>\n",
       "      <td>112.000000</td>\n",
       "      <td>1.454934e+07</td>\n",
       "      <td>5.716112e+07</td>\n",
       "      <td>72.458597</td>\n",
       "      <td>249.736953</td>\n",
       "      <td>10.000000</td>\n",
       "    </tr>\n",
       "    <tr>\n",
       "      <th>max</th>\n",
       "      <td>100.000000</td>\n",
       "      <td>4.106000e+08</td>\n",
       "      <td>7.000596e+08</td>\n",
       "      <td>2.208208e+09</td>\n",
       "      <td>2020.000000</td>\n",
       "      <td>360.000000</td>\n",
       "      <td>5.000596e+08</td>\n",
       "      <td>2.008208e+09</td>\n",
       "      <td>22664.410000</td>\n",
       "      <td>41556.474000</td>\n",
       "      <td>12.000000</td>\n",
       "    </tr>\n",
       "  </tbody>\n",
       "</table>\n",
       "</div>"
      ],
      "text/plain": [
       "                id  production_budget  domestic_gross  worldwide_gross  \\\n",
       "count  3467.000000       3.467000e+03    3.467000e+03     3.467000e+03   \n",
       "mean     50.408422       3.272311e+07    4.002588e+07     9.389707e+07   \n",
       "std      28.477523       4.493635e+07    6.962862e+07     1.863292e+08   \n",
       "min       1.000000       1.400000e+03    0.000000e+00     0.000000e+00   \n",
       "25%      26.000000       4.500000e+06    3.733750e+05     2.000046e+06   \n",
       "50%      51.000000       1.600000e+07    1.421887e+07     2.536121e+07   \n",
       "75%      74.000000       4.000000e+07    4.826558e+07     9.486865e+07   \n",
       "max     100.000000       4.106000e+08    7.000596e+08     2.208208e+09   \n",
       "\n",
       "        start_year  runtime_minutes  revenue-domestic  revenue-worldwide  \\\n",
       "count  3467.000000      3056.000000      3.467000e+03       3.467000e+03   \n",
       "mean   2014.273435        97.269634      7.302768e+06       6.117396e+07   \n",
       "std       2.687449        27.459274      4.980306e+07       1.549271e+08   \n",
       "min    2010.000000         1.000000     -3.072376e+08      -2.002376e+08   \n",
       "25%    2012.000000        87.000000     -1.105238e+07      -2.964562e+06   \n",
       "50%    2014.000000        98.000000     -1.049208e+06       6.433427e+06   \n",
       "75%    2016.000000       112.000000      1.454934e+07       5.716112e+07   \n",
       "max    2020.000000       360.000000      5.000596e+08       2.008208e+09   \n",
       "\n",
       "       roi-domestic  roi-worldwide  release_month  \n",
       "count   3467.000000    3467.000000    3467.000000  \n",
       "mean     110.018500     331.455748       6.935391  \n",
       "std      805.278371    1550.164497       3.522638  \n",
       "min     -100.000000    -100.000000       1.000000  \n",
       "25%      -92.326264     -70.612788       4.000000  \n",
       "50%      -31.388980      48.053683       7.000000  \n",
       "75%       72.458597     249.736953      10.000000  \n",
       "max    22664.410000   41556.474000      12.000000  "
      ]
     },
     "execution_count": 7,
     "metadata": {},
     "output_type": "execute_result"
    }
   ],
   "source": [
    "df.describe()"
   ]
  },
  {
   "cell_type": "markdown",
   "id": "5144d702",
   "metadata": {},
   "source": [
    "# Visualizing Distributions"
   ]
  },
  {
   "cell_type": "code",
   "execution_count": 8,
   "id": "d4b78c4a",
   "metadata": {
    "ExecuteTime": {
     "end_time": "2021-12-02T19:03:35.128023Z",
     "start_time": "2021-12-02T19:03:34.398230Z"
    }
   },
   "outputs": [],
   "source": [
    "# Imports\n",
    "### \n",
    "# NOTE: Best practice for your notebooks is to perform all imports \n",
    "# in the same cell at the top of the notebook.\n",
    "###\n",
    "import seaborn as sns\n",
    "import matplotlib.pyplot as plt\n",
    "plt.style.use('seaborn-talk')"
   ]
  },
  {
   "cell_type": "markdown",
   "id": "c8d0eb28",
   "metadata": {},
   "source": [
    "## Normal Distribution\n",
    "> *AKA: Gaussian / Bell Curve*\n",
    "\n",
    "- Normal Distributions are symmetric around the mean.\n",
    "- The mean, median, mode of a normal distribution are equal.\n",
    "- The area under the bell curve is $1.0$.\n",
    "- Normal distributions are dense in the center and less dense in the tails.\n",
    "- Normal distributions are defined by two parameters: $\\mu$ (mean) and $\\sigma$ (standard deviation).\n",
    "- Approximately $68\\%$ of the area of a normal distribution is within one standard deviation of the mean.\n",
    "    - $\\pm1\\sigma$\n",
    "- Approximately $95\\%$ of the area of a normal distribution is within two standard deviations of the mean.\n",
    "    - $\\pm2\\sigma$\n",
    "    \n",
    "    \n",
    "<img src='../data/standard-normal-distribution-with-probabilities.png'>"
   ]
  },
  {
   "cell_type": "markdown",
   "id": "1c36ea77",
   "metadata": {},
   "source": [
    "### Probability Mass Function (PMF)\n",
    "\n",
    "- The **Probability Mass Function** associates *probabilities with **discrete** variables.*\n",
    "    - *Discrete:* a number of known possible outcomes."
   ]
  },
  {
   "cell_type": "code",
   "execution_count": 9,
   "id": "8fee566a",
   "metadata": {
    "ExecuteTime": {
     "end_time": "2021-12-02T19:03:35.337073Z",
     "start_time": "2021-12-02T19:03:35.130446Z"
    }
   },
   "outputs": [
    {
     "data": {
      "image/png": "[encoded data removed]",
      "text/plain": [
       "<Figure size 748.8x514.8 with 1 Axes>"
      ]
     },
     "metadata": {
      "needs_background": "light"
     },
     "output_type": "display_data"
    }
   ],
   "source": [
    "# PMF Demo\n",
    "a = (\n",
    "    pd.Series(\n",
    "        ['a','a','a','a',\n",
    "         'b','b','b','b',\n",
    "         'c','c',\n",
    "         'd',\n",
    "         'e','e']\n",
    "    )\n",
    "    .value_counts(normalize=True)\n",
    "    .sort_index()\n",
    ")\n",
    "\n",
    "fig, ax = plt.subplots()\n",
    "ax.bar(a.index, a)\n",
    "ax.set(title='PMF', xlabel='Discrete Variable', ylabel='Probability')\n",
    "fig.tight_layout()"
   ]
  },
  {
   "cell_type": "markdown",
   "id": "5ece68ea",
   "metadata": {},
   "source": [
    "### Probability Density Function (PDF)\n",
    "- The **Probability Density Function** associates probabilities with **continuous** variables.\n",
    "    - *Continuous:* A possibly-infinite number of outcomes.\n",
    "\n",
    "<img src='../data/pdf_demo.png'>"
   ]
  },
  {
   "cell_type": "markdown",
   "id": "ad9acbfb",
   "metadata": {},
   "source": [
    "### Cumulative Distribution Function (CDF)\n",
    "- The **Cumulative Distribution Function** shows $P(X \\leq x)$ for an x within the sample space.\n",
    "\n",
    "<img src='../data/cdf.png'>"
   ]
  },
  {
   "cell_type": "markdown",
   "id": "811ee176",
   "metadata": {},
   "source": [
    "## Visualizing our Dataset"
   ]
  },
  {
   "cell_type": "code",
   "execution_count": 10,
   "id": "3b145448",
   "metadata": {
    "ExecuteTime": {
     "end_time": "2021-12-02T19:03:35.651796Z",
     "start_time": "2021-12-02T19:03:35.338772Z"
    }
   },
   "outputs": [
    {
     "data": {
      "image/png": "[encoded data removed]",
      "text/plain": [
       "<Figure size 748.8x514.8 with 1 Axes>"
      ]
     },
     "metadata": {
      "needs_background": "light"
     },
     "output_type": "display_data"
    }
   ],
   "source": [
    "# Domestic Gross - Histogram\n",
    "fig, ax = plt.subplots()\n",
    "sns.histplot(df['domestic_gross'], ax=ax)\n",
    "ax.set(title='Domestic Gross Distribution', xlabel='Domestic Gross');"
   ]
  },
  {
   "cell_type": "code",
   "execution_count": 11,
   "id": "94f6e8fd",
   "metadata": {
    "ExecuteTime": {
     "end_time": "2021-12-02T19:03:35.855916Z",
     "start_time": "2021-12-02T19:03:35.653397Z"
    }
   },
   "outputs": [
    {
     "data": {
      "image/png": "[encoded data removed]",
      "text/plain": [
       "<Figure size 748.8x514.8 with 1 Axes>"
      ]
     },
     "metadata": {
      "needs_background": "light"
     },
     "output_type": "display_data"
    }
   ],
   "source": [
    "# Domestic Gross - KDE\n",
    "fig, ax = plt.subplots()\n",
    "sns.kdeplot(df['domestic_gross'], ax=ax)\n",
    "\n",
    "# Bonus: Add vertical lines depicting the mean and median. (`axvline`)\n",
    "ax.axvline(df['domestic_gross'].mean(), label='Mean', ls='--', color='tab:blue')\n",
    "ax.axvline(df['domestic_gross'].median(), label='Median', ls='--', color='tab:orange')\n",
    "ax.legend();"
   ]
  },
  {
   "cell_type": "code",
   "execution_count": 12,
   "id": "9ab36333",
   "metadata": {
    "ExecuteTime": {
     "end_time": "2021-12-02T19:03:35.977005Z",
     "start_time": "2021-12-02T19:03:35.857175Z"
    }
   },
   "outputs": [
    {
     "data": {
      "image/png": "[encoded data removed]",
      "text/plain": [
       "<Figure size 748.8x514.8 with 1 Axes>"
      ]
     },
     "metadata": {
      "needs_background": "light"
     },
     "output_type": "display_data"
    }
   ],
   "source": [
    "# Domestic Gross - Boxplot\n",
    "fig, ax = plt.subplots()\n",
    "sns.boxplot(x=df['domestic_gross']);"
   ]
  },
  {
   "cell_type": "markdown",
   "id": "73c38de7",
   "metadata": {},
   "source": [
    "# Skew / Kurtosis"
   ]
  },
  {
   "cell_type": "code",
   "execution_count": 13,
   "id": "76f7a520",
   "metadata": {
    "ExecuteTime": {
     "end_time": "2021-12-02T19:03:35.981380Z",
     "start_time": "2021-12-02T19:03:35.979080Z"
    }
   },
   "outputs": [],
   "source": [
    "from scipy import stats"
   ]
  },
  {
   "cell_type": "markdown",
   "id": "4036d6b7",
   "metadata": {},
   "source": [
    "***Skew***\n",
    "<img src='../data/skew.png' width=75%>"
   ]
  },
  {
   "cell_type": "code",
   "execution_count": 14,
   "id": "93b46e18",
   "metadata": {
    "ExecuteTime": {
     "end_time": "2021-12-02T19:03:35.988448Z",
     "start_time": "2021-12-02T19:03:35.983809Z"
    }
   },
   "outputs": [
    {
     "data": {
      "text/plain": [
       "3.735313634734876"
      ]
     },
     "execution_count": 14,
     "metadata": {},
     "output_type": "execute_result"
    }
   ],
   "source": [
    "# Domestic Gross - Skew & Skew-Test\n",
    "stats.skew(df['domestic_gross'])"
   ]
  },
  {
   "cell_type": "code",
   "execution_count": 15,
   "id": "7eab3e62",
   "metadata": {
    "ExecuteTime": {
     "end_time": "2021-12-02T19:03:35.995850Z",
     "start_time": "2021-12-02T19:03:35.990500Z"
    }
   },
   "outputs": [
    {
     "data": {
      "text/plain": [
       "SkewtestResult(statistic=43.85258093309973, pvalue=0.0)"
      ]
     },
     "execution_count": 15,
     "metadata": {},
     "output_type": "execute_result"
    }
   ],
   "source": [
    "stats.skewtest(df['domestic_gross'])\n",
    "# stats.skewtest([1,2,3,4,5,6,7,8,100])"
   ]
  },
  {
   "cell_type": "markdown",
   "id": "d2eab261",
   "metadata": {},
   "source": [
    "***Kurtosis***\n",
    "<img src='../data/kurtosis.png'>\n",
    "> *https://analystprep.com/cfa-level-1-exam/quantitative-methods/kurtosis-and-skewness-types-of-distributions/*"
   ]
  },
  {
   "cell_type": "code",
   "execution_count": 16,
   "id": "e353bd29",
   "metadata": {
    "ExecuteTime": {
     "end_time": "2021-12-02T19:03:36.002729Z",
     "start_time": "2021-12-02T19:03:35.998043Z"
    }
   },
   "outputs": [
    {
     "data": {
      "text/plain": [
       "19.933980131434488"
      ]
     },
     "execution_count": 16,
     "metadata": {},
     "output_type": "execute_result"
    }
   ],
   "source": [
    "# Domestic Gross - Kurtosis & Kurtosis-Test\n",
    "stats.kurtosis(df['domestic_gross'])"
   ]
  },
  {
   "cell_type": "code",
   "execution_count": 17,
   "id": "73b47ff6",
   "metadata": {
    "ExecuteTime": {
     "end_time": "2021-12-02T19:03:36.009958Z",
     "start_time": "2021-12-02T19:03:36.005005Z"
    }
   },
   "outputs": [
    {
     "data": {
      "text/plain": [
       "KurtosistestResult(statistic=29.29164735398009, pvalue=1.3250354971761669e-188)"
      ]
     },
     "execution_count": 17,
     "metadata": {},
     "output_type": "execute_result"
    }
   ],
   "source": [
    "stats.kurtosistest(df['domestic_gross'])"
   ]
  },
  {
   "cell_type": "markdown",
   "id": "5f84181c",
   "metadata": {},
   "source": [
    "# Z-Score\n",
    "- A *Z-Score* tells us how many standard deviations away from the mean a point would be in a *Standard Normal Distribution*.\n",
    "\n",
    "$ \\LARGE z = \\frac{(x - \\mu)}{\\sigma} $\n",
    "> - *$z$: z-score*\n",
    "> - *$\\mu$ (mu): population mean*\n",
    "> - *$\\sigma$ (sigma): population standard deviation*\n",
    "\n",
    "---\n",
    "\n",
    "- *Z-Scores* are associated with cumulative probabilities (retrieved from a *z-table*).\n",
    "<img src='../data/z-table.png' width=500>\n",
    "\n",
    "> <a src='https://www.chegg.com/homework-help/questions-and-answers/usage-z-table-1-assuming-normal-distribution-using-z-tables-find-z-score-corresponding--75-q19507214'>*Chegg.com - Usage of Z-Table*</a>"
   ]
  },
  {
   "cell_type": "markdown",
   "id": "a63a5c64",
   "metadata": {},
   "source": [
    "### By Hand - Don't do this!"
   ]
  },
  {
   "cell_type": "code",
   "execution_count": 18,
   "id": "1a6f97dc",
   "metadata": {
    "ExecuteTime": {
     "end_time": "2021-12-02T19:03:36.022829Z",
     "start_time": "2021-12-02T19:03:36.011892Z"
    }
   },
   "outputs": [
    {
     "name": "stdout",
     "output_type": "stream",
     "text": [
      "Mean: 97.2696335078534\n",
      "STD: 27.459273946922806\n"
     ]
    },
    {
     "data": {
      "text/plain": [
       "0       136.0\n",
       "1       113.0\n",
       "2       141.0\n",
       "3       149.0\n",
       "4       120.0\n",
       "        ...  \n",
       "3462     70.0\n",
       "3463     93.0\n",
       "3464     95.0\n",
       "3465     77.0\n",
       "3466     76.0\n",
       "Name: runtime_minutes, Length: 3467, dtype: float64"
      ]
     },
     "execution_count": 18,
     "metadata": {},
     "output_type": "execute_result"
    }
   ],
   "source": [
    "# Calculating z-score by hand for RUNTIME_MINUTES.\n",
    "mean = df['runtime_minutes'].mean()\n",
    "print('Mean:', mean)\n",
    "std = df['runtime_minutes'].std()\n",
    "print('STD:', std)\n",
    "\n",
    "df['runtime_minutes']"
   ]
  },
  {
   "cell_type": "code",
   "execution_count": 19,
   "id": "0ba1f8fe",
   "metadata": {
    "ExecuteTime": {
     "end_time": "2021-12-02T19:03:36.049380Z",
     "start_time": "2021-12-02T19:03:36.026328Z"
    }
   },
   "outputs": [
    {
     "data": {
      "text/plain": [
       "0       38.730366\n",
       "1       15.730366\n",
       "2       43.730366\n",
       "3       51.730366\n",
       "4       22.730366\n",
       "          ...    \n",
       "3462   -27.269634\n",
       "3463    -4.269634\n",
       "3464    -2.269634\n",
       "3465   -20.269634\n",
       "3466   -21.269634\n",
       "Name: runtime_minutes, Length: 3467, dtype: float64"
      ]
     },
     "execution_count": 19,
     "metadata": {},
     "output_type": "execute_result"
    }
   ],
   "source": [
    "df['runtime_minutes'] - mean"
   ]
  },
  {
   "cell_type": "code",
   "execution_count": 20,
   "id": "56250965",
   "metadata": {
    "ExecuteTime": {
     "end_time": "2021-12-02T19:03:36.067127Z",
     "start_time": "2021-12-02T19:03:36.060419Z"
    }
   },
   "outputs": [
    {
     "data": {
      "text/plain": [
       "0       1.410466\n",
       "1       0.572862\n",
       "2       1.592554\n",
       "3       1.883894\n",
       "4       0.827785\n",
       "          ...   \n",
       "3462   -0.993094\n",
       "3463   -0.155490\n",
       "3464   -0.082655\n",
       "3465   -0.738171\n",
       "3466   -0.774588\n",
       "Name: runtime_minutes, Length: 3467, dtype: float64"
      ]
     },
     "execution_count": 20,
     "metadata": {},
     "output_type": "execute_result"
    }
   ],
   "source": [
    "(df['runtime_minutes'] - mean) / std"
   ]
  },
  {
   "cell_type": "markdown",
   "id": "15adb836",
   "metadata": {},
   "source": [
    "### Using `sklearn` and `StandardScaler`"
   ]
  },
  {
   "cell_type": "code",
   "execution_count": 21,
   "id": "93d65a81",
   "metadata": {
    "ExecuteTime": {
     "end_time": "2021-12-02T19:03:36.605266Z",
     "start_time": "2021-12-02T19:03:36.069509Z"
    }
   },
   "outputs": [],
   "source": [
    "from sklearn.preprocessing import StandardScaler"
   ]
  },
  {
   "cell_type": "code",
   "execution_count": 22,
   "id": "a06a881d",
   "metadata": {
    "ExecuteTime": {
     "end_time": "2021-12-02T19:03:36.611804Z",
     "start_time": "2021-12-02T19:03:36.607186Z"
    }
   },
   "outputs": [
    {
     "data": {
      "text/plain": [
       "StandardScaler()"
      ]
     },
     "execution_count": 22,
     "metadata": {},
     "output_type": "execute_result"
    }
   ],
   "source": [
    "# Instantiate the Object.\n",
    "scaler = StandardScaler()\n",
    "scaler"
   ]
  },
  {
   "cell_type": "code",
   "execution_count": 23,
   "id": "41cf9df1",
   "metadata": {
    "ExecuteTime": {
     "end_time": "2021-12-02T19:03:36.635735Z",
     "start_time": "2021-12-02T19:03:36.613932Z"
    }
   },
   "outputs": [
    {
     "data": {
      "text/plain": [
       "0    136.0\n",
       "1    113.0\n",
       "2    141.0\n",
       "3    149.0\n",
       "4    120.0\n",
       "Name: runtime_minutes, dtype: float64"
      ]
     },
     "execution_count": 23,
     "metadata": {},
     "output_type": "execute_result"
    }
   ],
   "source": [
    "df['runtime_minutes'].head()"
   ]
  },
  {
   "cell_type": "code",
   "execution_count": 24,
   "id": "8730775e",
   "metadata": {
    "ExecuteTime": {
     "end_time": "2021-12-02T19:03:36.664079Z",
     "start_time": "2021-12-02T19:03:36.638231Z"
    }
   },
   "outputs": [
    {
     "data": {
      "text/html": [
       "<div>\n",
       "<style scoped>\n",
       "    .dataframe tbody tr th:only-of-type {\n",
       "        vertical-align: middle;\n",
       "    }\n",
       "\n",
       "    .dataframe tbody tr th {\n",
       "        vertical-align: top;\n",
       "    }\n",
       "\n",
       "    .dataframe thead th {\n",
       "        text-align: right;\n",
       "    }\n",
       "</style>\n",
       "<table border=\"1\" class=\"dataframe\">\n",
       "  <thead>\n",
       "    <tr style=\"text-align: right;\">\n",
       "      <th></th>\n",
       "      <th>runtime_minutes</th>\n",
       "    </tr>\n",
       "  </thead>\n",
       "  <tbody>\n",
       "    <tr>\n",
       "      <th>0</th>\n",
       "      <td>136.0</td>\n",
       "    </tr>\n",
       "    <tr>\n",
       "      <th>1</th>\n",
       "      <td>113.0</td>\n",
       "    </tr>\n",
       "    <tr>\n",
       "      <th>2</th>\n",
       "      <td>141.0</td>\n",
       "    </tr>\n",
       "    <tr>\n",
       "      <th>3</th>\n",
       "      <td>149.0</td>\n",
       "    </tr>\n",
       "    <tr>\n",
       "      <th>4</th>\n",
       "      <td>120.0</td>\n",
       "    </tr>\n",
       "  </tbody>\n",
       "</table>\n",
       "</div>"
      ],
      "text/plain": [
       "   runtime_minutes\n",
       "0            136.0\n",
       "1            113.0\n",
       "2            141.0\n",
       "3            149.0\n",
       "4            120.0"
      ]
     },
     "execution_count": 24,
     "metadata": {},
     "output_type": "execute_result"
    }
   ],
   "source": [
    "df[['runtime_minutes']].head()"
   ]
  },
  {
   "cell_type": "code",
   "execution_count": 25,
   "id": "2ae38040",
   "metadata": {
    "ExecuteTime": {
     "end_time": "2021-12-02T19:03:36.676016Z",
     "start_time": "2021-12-02T19:03:36.666387Z"
    }
   },
   "outputs": [
    {
     "data": {
      "text/plain": [
       "StandardScaler()"
      ]
     },
     "execution_count": 25,
     "metadata": {},
     "output_type": "execute_result"
    }
   ],
   "source": [
    "# Fit the object.\n",
    "scaler.fit(df[['runtime_minutes']])"
   ]
  },
  {
   "cell_type": "code",
   "execution_count": 26,
   "id": "da4af74d",
   "metadata": {
    "ExecuteTime": {
     "end_time": "2021-12-02T19:03:36.683151Z",
     "start_time": "2021-12-02T19:03:36.678259Z"
    }
   },
   "outputs": [
    {
     "data": {
      "text/plain": [
       "array([97.26963351])"
      ]
     },
     "execution_count": 26,
     "metadata": {},
     "output_type": "execute_result"
    }
   ],
   "source": [
    "# Check mean attribute.\n",
    "scaler.mean_"
   ]
  },
  {
   "cell_type": "code",
   "execution_count": 27,
   "id": "9943e006",
   "metadata": {
    "ExecuteTime": {
     "end_time": "2021-12-02T19:03:36.690920Z",
     "start_time": "2021-12-02T19:03:36.686271Z"
    }
   },
   "outputs": [
    {
     "data": {
      "text/plain": [
       "array([753.76499411])"
      ]
     },
     "execution_count": 27,
     "metadata": {},
     "output_type": "execute_result"
    }
   ],
   "source": [
    "# Check var attribute.\n",
    "scaler.var_"
   ]
  },
  {
   "cell_type": "code",
   "execution_count": 28,
   "id": "de0b0dd1",
   "metadata": {
    "ExecuteTime": {
     "end_time": "2021-12-02T19:03:36.703321Z",
     "start_time": "2021-12-02T19:03:36.694352Z"
    }
   },
   "outputs": [
    {
     "data": {
      "text/plain": [
       "array([[ 1.41069662],\n",
       "       [ 0.57295546],\n",
       "       [ 1.59281426],\n",
       "       ...,\n",
       "       [-0.08266806],\n",
       "       [-0.73829158],\n",
       "       [-0.77471511]])"
      ]
     },
     "execution_count": 28,
     "metadata": {},
     "output_type": "execute_result"
    }
   ],
   "source": [
    "# Transform column.\n",
    "scaled_data = scaler.transform(df[['runtime_minutes']])\n",
    "scaled_data"
   ]
  },
  {
   "cell_type": "code",
   "execution_count": 29,
   "id": "23bd0b75",
   "metadata": {
    "ExecuteTime": {
     "end_time": "2021-12-02T19:03:36.712109Z",
     "start_time": "2021-12-02T19:03:36.707383Z"
    }
   },
   "outputs": [
    {
     "data": {
      "text/plain": [
       "array([[136.],\n",
       "       [113.],\n",
       "       [141.],\n",
       "       ...,\n",
       "       [ 95.],\n",
       "       [ 77.],\n",
       "       [ 76.]])"
      ]
     },
     "execution_count": 29,
     "metadata": {},
     "output_type": "execute_result"
    }
   ],
   "source": [
    "# Revert column back to original values.\n",
    "scaler.inverse_transform(scaled_data)"
   ]
  },
  {
   "cell_type": "code",
   "execution_count": 30,
   "id": "b23f7224",
   "metadata": {
    "ExecuteTime": {
     "end_time": "2021-12-02T19:03:36.743728Z",
     "start_time": "2021-12-02T19:03:36.714330Z"
    }
   },
   "outputs": [
    {
     "data": {
      "text/plain": [
       "array([[ 1.41069662],\n",
       "       [ 0.57295546],\n",
       "       [ 1.59281426],\n",
       "       ...,\n",
       "       [-0.08266806],\n",
       "       [-0.73829158],\n",
       "       [-0.77471511]])"
      ]
     },
     "execution_count": 30,
     "metadata": {},
     "output_type": "execute_result"
    }
   ],
   "source": [
    "# Shorthand, using `fit_transform`.\n",
    "scaler = StandardScaler()\n",
    "scaled_data = scaler.fit_transform(df[['runtime_minutes']])\n",
    "scaled_data"
   ]
  },
  {
   "cell_type": "code",
   "execution_count": 31,
   "id": "10bb2a0c",
   "metadata": {
    "ExecuteTime": {
     "end_time": "2021-12-02T19:03:36.749076Z",
     "start_time": "2021-12-02T19:03:36.746441Z"
    }
   },
   "outputs": [],
   "source": [
    "# Plot PDF of original values.\n"
   ]
  },
  {
   "cell_type": "code",
   "execution_count": 32,
   "id": "f233072d",
   "metadata": {
    "ExecuteTime": {
     "end_time": "2021-12-02T19:03:36.758417Z",
     "start_time": "2021-12-02T19:03:36.756248Z"
    }
   },
   "outputs": [],
   "source": [
    "# Plot PDF of scaled values.\n"
   ]
  },
  {
   "cell_type": "code",
   "execution_count": 33,
   "id": "371f3a2b",
   "metadata": {
    "ExecuteTime": {
     "end_time": "2021-12-02T19:03:36.762733Z",
     "start_time": "2021-12-02T19:03:36.760609Z"
    }
   },
   "outputs": [],
   "source": [
    "# Create a plot with side-by-side axes showing each the original & scaled distributions.\n",
    "\n",
    "\n",
    "# Bonus: Add vertical line showing the mean of each sample.\n"
   ]
  },
  {
   "cell_type": "code",
   "execution_count": null,
   "id": "fc6f4679",
   "metadata": {},
   "outputs": [],
   "source": []
  }
 ],
 "metadata": {
  "kernelspec": {
   "display_name": "Python 3",
   "language": "python",
   "name": "python3"
  },
  "language_info": {
   "codemirror_mode": {
    "name": "ipython",
    "version": 3
   },
   "file_extension": ".py",
   "mimetype": "text/x-python",
   "name": "python",
   "nbconvert_exporter": "python",
   "pygments_lexer": "ipython3",
   "version": "3.6.9"
  },
  "toc": {
   "base_numbering": 1,
   "nav_menu": {},
   "number_sections": false,
   "sideBar": true,
   "skip_h1_title": false,
   "title_cell": "Table of Contents",
   "title_sidebar": "Contents",
   "toc_cell": false,
   "toc_position": {
    "height": "calc(100% - 180px)",
    "left": "10px",
    "top": "150px",
    "width": "295px"
   },
   "toc_section_display": true,
   "toc_window_display": true
  }
 },
 "nbformat": 4,
 "nbformat_minor": 5
}
