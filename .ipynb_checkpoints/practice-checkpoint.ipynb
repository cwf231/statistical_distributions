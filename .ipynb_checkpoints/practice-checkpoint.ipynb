{
 "cells": [
  {
   "cell_type": "markdown",
   "id": "a3b9eb3e",
   "metadata": {},
   "source": [
    "# Distributions\n",
    "\n",
    "## Objectives\n",
    "- Relate the concepts of distributions and normality back to data we are familiar with.\n",
    "- Discuss Z-scores and the ways we can calculate them.\n",
    "- Discuss normality and how to asses it."
   ]
  },
  {
   "cell_type": "markdown",
   "id": "708ed978",
   "metadata": {},
   "source": [
    "#### Loading Data"
   ]
  },
  {
   "cell_type": "code",
   "execution_count": null,
   "id": "532c2f0a",
   "metadata": {
    "ExecuteTime": {
     "end_time": "2021-12-02T14:29:25.687883Z",
     "start_time": "2021-12-02T14:29:25.685316Z"
    }
   },
   "outputs": [],
   "source": [
    "# Import pandas.\n",
    "import pandas as pd"
   ]
  },
  {
   "cell_type": "code",
   "execution_count": null,
   "id": "6bf3189a",
   "metadata": {
    "ExecuteTime": {
     "end_time": "2021-12-02T14:29:25.693290Z",
     "start_time": "2021-12-02T14:29:25.691064Z"
    }
   },
   "outputs": [],
   "source": [
    "# Load data and check it out!\n"
   ]
  },
  {
   "cell_type": "code",
   "execution_count": null,
   "id": "34461381",
   "metadata": {
    "ExecuteTime": {
     "end_time": "2021-08-26T23:36:39.415534Z",
     "start_time": "2021-08-26T23:36:39.402913Z"
    }
   },
   "outputs": [],
   "source": []
  },
  {
   "cell_type": "code",
   "execution_count": null,
   "id": "529fdf2a",
   "metadata": {
    "ExecuteTime": {
     "end_time": "2021-08-26T23:36:39.421442Z",
     "start_time": "2021-08-26T23:36:39.417430Z"
    }
   },
   "outputs": [],
   "source": []
  },
  {
   "cell_type": "code",
   "execution_count": null,
   "id": "1f058d42",
   "metadata": {
    "ExecuteTime": {
     "end_time": "2021-08-26T23:36:39.432693Z",
     "start_time": "2021-08-26T23:36:39.427980Z"
    }
   },
   "outputs": [],
   "source": []
  },
  {
   "cell_type": "code",
   "execution_count": null,
   "id": "e0fe7915",
   "metadata": {
    "ExecuteTime": {
     "end_time": "2021-08-26T23:36:39.445175Z",
     "start_time": "2021-08-26T23:36:39.439502Z"
    }
   },
   "outputs": [],
   "source": []
  },
  {
   "cell_type": "code",
   "execution_count": null,
   "id": "09c037a6",
   "metadata": {
    "ExecuteTime": {
     "end_time": "2021-08-26T23:36:39.453600Z",
     "start_time": "2021-08-26T23:36:39.448593Z"
    }
   },
   "outputs": [],
   "source": []
  },
  {
   "cell_type": "markdown",
   "id": "16a8d4bb",
   "metadata": {},
   "source": [
    "# Visualizing Distributions"
   ]
  },
  {
   "cell_type": "code",
   "execution_count": null,
   "id": "65f11b6e",
   "metadata": {
    "ExecuteTime": {
     "end_time": "2021-12-02T14:29:27.008951Z",
     "start_time": "2021-12-02T14:29:25.696532Z"
    }
   },
   "outputs": [],
   "source": [
    "# Imports\n",
    "### \n",
    "# NOTE: Best practice for your notebooks is to perform all imports \n",
    "# in the same cell at the top of the notebook.\n",
    "###\n",
    "import seaborn as sns\n",
    "import matplotlib.pyplot as plt\n",
    "plt.style.use('seaborn-talk')"
   ]
  },
  {
   "cell_type": "markdown",
   "id": "400025ac",
   "metadata": {},
   "source": [
    "## Normal Distribution\n",
    "> *AKA: Gaussian / Bell Curve*\n",
    "\n",
    "- Normal Distributions are symmetric around the mean.\n",
    "- The mean, median, mode of a normal distribution are equal.\n",
    "- The area under the bell curve is $1.0$.\n",
    "- Normal distributions are dense in the center and less dense in the tails.\n",
    "- Normal distributions are defined by two parameters: $\\mu$ (mean) and $\\sigma$ (standard deviation).\n",
    "- Approximately $68\\%$ of the area of a normal distribution is within one standard deviation of the mean.\n",
    "    - $\\pm1\\sigma$\n",
    "- Approximately $95\\%$ of the area of a normal distribution is within two standard deviations of the mean.\n",
    "    - $\\pm2\\sigma$\n",
    "    \n",
    "    \n",
    "<img src='data/standard-normal-distribution-with-probabilities.png'>"
   ]
  },
  {
   "cell_type": "markdown",
   "id": "8c3666ff",
   "metadata": {},
   "source": [
    "### Probability Mass Function (PMF)\n",
    "\n",
    "- The **Probability Mass Function** associates *probabilities with **discrete** variables.*\n",
    "    - *Discrete:* a number of known possible outcomes."
   ]
  },
  {
   "cell_type": "code",
   "execution_count": null,
   "id": "5ce81336",
   "metadata": {
    "ExecuteTime": {
     "end_time": "2021-12-02T14:29:27.164570Z",
     "start_time": "2021-12-02T14:29:27.011685Z"
    }
   },
   "outputs": [],
   "source": [
    "# PMF Demo\n",
    "a = (\n",
    "    pd.Series(\n",
    "        ['a','a','a','a',\n",
    "         'b','b','b','b',\n",
    "         'c','c',\n",
    "         'd',\n",
    "         'e','e']\n",
    "    )\n",
    "    .value_counts(normalize=True)\n",
    "    .sort_index()\n",
    ")\n",
    "\n",
    "fig, ax = plt.subplots()\n",
    "ax.bar(a.index, a)\n",
    "ax.set(title='PMF', xlabel='Discrete Variable', ylabel='Probability')\n",
    "fig.tight_layout()"
   ]
  },
  {
   "cell_type": "markdown",
   "id": "81d6f185",
   "metadata": {},
   "source": [
    "### Probability Density Function (PDF)\n",
    "- The **Probability Density Function** associates probabilities with **continuous** variables.\n",
    "    - *Continuous:* A possibly-infinite number of outcomes.\n",
    "\n",
    "<img src='data/pdf_demo.png'>"
   ]
  },
  {
   "cell_type": "markdown",
   "id": "441f0982",
   "metadata": {},
   "source": [
    "### Cumulative Distribution Function (CDF)\n",
    "- The **Cumulative Distribution Function** shows $P(X \\leq x)$ for an x within the sample space.\n",
    "\n",
    "<img src='data/cdf.png'>"
   ]
  },
  {
   "cell_type": "markdown",
   "id": "daa2d1e2",
   "metadata": {},
   "source": [
    "## Visualizing our Dataset"
   ]
  },
  {
   "cell_type": "code",
   "execution_count": null,
   "id": "99e62f20",
   "metadata": {
    "ExecuteTime": {
     "end_time": "2021-12-02T14:29:27.167761Z",
     "start_time": "2021-12-02T14:29:25.692Z"
    }
   },
   "outputs": [],
   "source": [
    "# Domestic Gross - Histogram\n"
   ]
  },
  {
   "cell_type": "code",
   "execution_count": null,
   "id": "13f88c0c",
   "metadata": {
    "ExecuteTime": {
     "end_time": "2021-12-02T14:29:27.169060Z",
     "start_time": "2021-12-02T14:29:25.694Z"
    }
   },
   "outputs": [],
   "source": [
    "# Domestic Gross - KDE\n",
    "\n",
    "\n",
    "# Bonus: Add vertical lines depicting the mean and median. (`axvline`)\n"
   ]
  },
  {
   "cell_type": "code",
   "execution_count": null,
   "id": "91922d6a",
   "metadata": {
    "ExecuteTime": {
     "end_time": "2021-12-02T14:29:27.170245Z",
     "start_time": "2021-12-02T14:29:25.695Z"
    }
   },
   "outputs": [],
   "source": [
    "# Domestic Gross - Boxplot\n"
   ]
  },
  {
   "cell_type": "markdown",
   "id": "dfdef392",
   "metadata": {},
   "source": [
    "# Skew / Kurtosis"
   ]
  },
  {
   "cell_type": "code",
   "execution_count": null,
   "id": "99dd8197",
   "metadata": {
    "ExecuteTime": {
     "end_time": "2021-12-02T14:29:27.171339Z",
     "start_time": "2021-12-02T14:29:25.697Z"
    }
   },
   "outputs": [],
   "source": [
    "from scipy import stats"
   ]
  },
  {
   "cell_type": "markdown",
   "id": "0823938b",
   "metadata": {},
   "source": [
    "***Skew***\n",
    "<img src='data/skew.png' width=75%>"
   ]
  },
  {
   "cell_type": "code",
   "execution_count": null,
   "id": "bd9313d0",
   "metadata": {
    "ExecuteTime": {
     "end_time": "2021-12-02T14:29:27.172640Z",
     "start_time": "2021-12-02T14:29:25.699Z"
    }
   },
   "outputs": [],
   "source": [
    "# Domestic Gross - Skew & Skew-Test\n"
   ]
  },
  {
   "cell_type": "code",
   "execution_count": null,
   "id": "27a76755",
   "metadata": {},
   "outputs": [],
   "source": []
  },
  {
   "cell_type": "markdown",
   "id": "ceb52cfa",
   "metadata": {},
   "source": [
    "***Kurtosis***\n",
    "<img src='data/kurtosis.png'>\n",
    "> *https://analystprep.com/cfa-level-1-exam/quantitative-methods/kurtosis-and-skewness-types-of-distributions/*"
   ]
  },
  {
   "cell_type": "code",
   "execution_count": null,
   "id": "3c1d66db",
   "metadata": {
    "ExecuteTime": {
     "end_time": "2021-12-02T14:29:27.174088Z",
     "start_time": "2021-12-02T14:29:25.700Z"
    }
   },
   "outputs": [],
   "source": [
    "# Domestic Gross - Kurtosis & Kurtosis-Test\n"
   ]
  },
  {
   "cell_type": "code",
   "execution_count": null,
   "id": "96824a4c",
   "metadata": {},
   "outputs": [],
   "source": []
  },
  {
   "cell_type": "markdown",
   "id": "b17a3d16",
   "metadata": {},
   "source": [
    "# Z-Score\n",
    "- A *Z-Score* tells us how many standard deviations away from the mean a point would be in a *Standard Normal Distribution*.\n",
    "\n",
    "$ \\LARGE z = \\frac{(x - \\mu)}{\\sigma} $\n",
    "> - *$z$: z-score*\n",
    "> - *$\\mu$ (mu): population mean*\n",
    "> - *$\\sigma$ (sigma): population standard deviation*\n",
    "\n",
    "---\n",
    "\n",
    "- *Z-Scores* are associated with cumulative probabilities (retrieved from a *z-table*).\n",
    "<img src='data/z-table.png' width=500>\n",
    "\n",
    "> <a src='https://www.chegg.com/homework-help/questions-and-answers/usage-z-table-1-assuming-normal-distribution-using-z-tables-find-z-score-corresponding--75-q19507214'>*Chegg.com - Usage of Z-Table*</a>"
   ]
  },
  {
   "cell_type": "markdown",
   "id": "5b8dc24c",
   "metadata": {},
   "source": [
    "### By Hand - Don't do this!"
   ]
  },
  {
   "cell_type": "code",
   "execution_count": null,
   "id": "d039495d",
   "metadata": {
    "ExecuteTime": {
     "end_time": "2021-12-02T14:29:27.175075Z",
     "start_time": "2021-12-02T14:29:25.702Z"
    }
   },
   "outputs": [],
   "source": [
    "# Calculating z-score by hand for RUNTIME_MINUTES.\n"
   ]
  },
  {
   "cell_type": "code",
   "execution_count": null,
   "id": "179ef60f",
   "metadata": {
    "ExecuteTime": {
     "end_time": "2021-08-26T23:36:41.200674Z",
     "start_time": "2021-08-26T23:36:41.191017Z"
    }
   },
   "outputs": [],
   "source": []
  },
  {
   "cell_type": "code",
   "execution_count": null,
   "id": "230f1221",
   "metadata": {
    "ExecuteTime": {
     "end_time": "2021-08-26T23:36:41.205172Z",
     "start_time": "2021-08-26T23:36:41.202698Z"
    }
   },
   "outputs": [],
   "source": []
  },
  {
   "cell_type": "markdown",
   "id": "43c63d9c",
   "metadata": {},
   "source": [
    "### Using `sklearn` and `StandardScaler`"
   ]
  },
  {
   "cell_type": "code",
   "execution_count": null,
   "id": "b85276d1",
   "metadata": {
    "ExecuteTime": {
     "end_time": "2021-12-02T14:29:27.176326Z",
     "start_time": "2021-12-02T14:29:25.704Z"
    }
   },
   "outputs": [],
   "source": [
    "from sklearn.preprocessing import StandardScaler"
   ]
  },
  {
   "cell_type": "code",
   "execution_count": null,
   "id": "e8502167",
   "metadata": {
    "ExecuteTime": {
     "end_time": "2021-12-02T14:29:27.177764Z",
     "start_time": "2021-12-02T14:29:25.706Z"
    }
   },
   "outputs": [],
   "source": [
    "# Instantiate the Object.\n"
   ]
  },
  {
   "cell_type": "code",
   "execution_count": null,
   "id": "932fbdbc",
   "metadata": {
    "ExecuteTime": {
     "end_time": "2021-12-02T14:29:27.179032Z",
     "start_time": "2021-12-02T14:29:25.707Z"
    }
   },
   "outputs": [],
   "source": [
    "# Fit the object.\n"
   ]
  },
  {
   "cell_type": "code",
   "execution_count": null,
   "id": "0137143c",
   "metadata": {
    "ExecuteTime": {
     "end_time": "2021-12-02T14:29:27.180256Z",
     "start_time": "2021-12-02T14:29:25.708Z"
    }
   },
   "outputs": [],
   "source": [
    "# Check mean attribute.\n"
   ]
  },
  {
   "cell_type": "code",
   "execution_count": null,
   "id": "17bde5d1",
   "metadata": {
    "ExecuteTime": {
     "end_time": "2021-12-02T14:29:27.181470Z",
     "start_time": "2021-12-02T14:29:25.709Z"
    }
   },
   "outputs": [],
   "source": [
    "# Check var attribute.\n"
   ]
  },
  {
   "cell_type": "code",
   "execution_count": null,
   "id": "db80812c",
   "metadata": {
    "ExecuteTime": {
     "end_time": "2021-12-02T14:29:27.182712Z",
     "start_time": "2021-12-02T14:29:25.710Z"
    }
   },
   "outputs": [],
   "source": [
    "# Transform column.\n"
   ]
  },
  {
   "cell_type": "code",
   "execution_count": null,
   "id": "53af5e14",
   "metadata": {
    "ExecuteTime": {
     "end_time": "2021-12-02T14:29:27.183898Z",
     "start_time": "2021-12-02T14:29:25.711Z"
    }
   },
   "outputs": [],
   "source": [
    "# Revert column back to original values.\n"
   ]
  },
  {
   "cell_type": "code",
   "execution_count": null,
   "id": "704a839a",
   "metadata": {
    "ExecuteTime": {
     "end_time": "2021-12-02T14:29:27.185041Z",
     "start_time": "2021-12-02T14:29:25.713Z"
    }
   },
   "outputs": [],
   "source": [
    "# Shorthand, using `fit_transform`.\n"
   ]
  },
  {
   "cell_type": "code",
   "execution_count": null,
   "id": "e7fe365f",
   "metadata": {
    "ExecuteTime": {
     "end_time": "2021-12-02T14:29:27.186286Z",
     "start_time": "2021-12-02T14:29:25.714Z"
    }
   },
   "outputs": [],
   "source": [
    "# Plot PDF of original values.\n"
   ]
  },
  {
   "cell_type": "code",
   "execution_count": null,
   "id": "ac20d0fc",
   "metadata": {
    "ExecuteTime": {
     "end_time": "2021-12-02T14:29:27.187292Z",
     "start_time": "2021-12-02T14:29:25.715Z"
    }
   },
   "outputs": [],
   "source": [
    "# Plot PDF of scaled values.\n"
   ]
  },
  {
   "cell_type": "code",
   "execution_count": null,
   "id": "22dc5c02",
   "metadata": {
    "ExecuteTime": {
     "end_time": "2021-12-02T14:29:27.188556Z",
     "start_time": "2021-12-02T14:29:25.716Z"
    }
   },
   "outputs": [],
   "source": [
    "# Create a plot with side-by-side axes showing each the original & scaled distributions.\n",
    "\n",
    "\n",
    "# Bonus: Add vertical line showing the mean of each sample.\n"
   ]
  },
  {
   "cell_type": "code",
   "execution_count": null,
   "id": "c87d1e1b",
   "metadata": {},
   "outputs": [],
   "source": []
  }
 ],
 "metadata": {
  "kernelspec": {
   "display_name": "Python 3",
   "language": "python",
   "name": "python3"
  },
  "language_info": {
   "codemirror_mode": {
    "name": "ipython",
    "version": 3
   },
   "file_extension": ".py",
   "mimetype": "text/x-python",
   "name": "python",
   "nbconvert_exporter": "python",
   "pygments_lexer": "ipython3",
   "version": "3.6.9"
  },
  "toc": {
   "base_numbering": 1,
   "nav_menu": {},
   "number_sections": false,
   "sideBar": true,
   "skip_h1_title": false,
   "title_cell": "Table of Contents",
   "title_sidebar": "Contents",
   "toc_cell": false,
   "toc_position": {
    "height": "calc(100% - 180px)",
    "left": "10px",
    "top": "150px",
    "width": "349px"
   },
   "toc_section_display": true,
   "toc_window_display": true
  }
 },
 "nbformat": 4,
 "nbformat_minor": 5
}
